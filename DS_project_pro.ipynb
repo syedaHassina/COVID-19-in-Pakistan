{
  "nbformat": 4,
  "nbformat_minor": 0,
  "metadata": {
    "kernelspec": {
      "display_name": "Python 3",
      "language": "python",
      "name": "python3"
    },
    "language_info": {
      "codemirror_mode": {
        "name": "ipython",
        "version": 3
      },
      "file_extension": ".py",
      "mimetype": "text/x-python",
      "name": "python",
      "nbconvert_exporter": "python",
      "pygments_lexer": "ipython3",
      "version": "3.7.4"
    },
    "colab": {
      "name": "DS project pro.ipynb",
      "provenance": [],
      "collapsed_sections": [],
      "include_colab_link": true
    }
  },
  "cells": [
    {
      "cell_type": "markdown",
      "metadata": {
        "id": "view-in-github",
        "colab_type": "text"
      },
      "source": [
        "<a href=\"https://colab.research.google.com/github/syedaHassina/COVID-19-in-Pakistan/blob/master/DS_project_pro.ipynb\" target=\"_parent\"><img src=\"https://colab.research.google.com/assets/colab-badge.svg\" alt=\"Open In Colab\"/></a>"
      ]
    },
    {
      "cell_type": "code",
      "metadata": {
        "id": "AcHSuRNGfnf4",
        "colab_type": "code",
        "colab": {}
      },
      "source": [
        "import pandas as pd\n",
        "import seaborn as sns\n",
        "from datetime import datetime\n",
        "import numpy as np\n"
      ],
      "execution_count": 0,
      "outputs": []
    },
    {
      "cell_type": "code",
      "metadata": {
        "id": "W7jixAg_fngP",
        "colab_type": "code",
        "colab": {}
      },
      "source": [
        "data1=pd.read_excel('COVID_FINAL_DATA.xlsx',sheet_name='TimeSeries_KeyIndicators')\n",
        "data2=pd.read_excel('COVID_FINAL_DATA.xlsx',sheet_name='TimeSeries_KeyIndicators_Detail')\n",
        "data3=pd.read_excel('COVID_FINAL_DATA.xlsx',sheet_name='TimeSeries_Action_Screen')\n",
        "data4=pd.read_excel('COVID_FINAL_DATA.xlsx',sheet_name='TimeSeries_Action_Call')\n",
        "data5=pd.read_excel('COVID_FINAL_DATA.xlsx',sheet_name='TimeSeries_COVID_News')\n",
        "data6=pd.read_excel('COVID_FINAL_DATA.xlsx',sheet_name='TimeSeries_NIH_Response')\n",
        "data7=pd.read_excel('COVID_FINAL_DATA.xlsx',sheet_name='TimeSeries_NIH_Risk')\n",
        "data8=pd.read_excel('COVID_FINAL_DATA.xlsx',sheet_name='TimeSeries_Province_Response')\n",
        "data9=pd.read_excel('COVID_FINAL_DATA.xlsx',sheet_name='TimeSeries_Helpline_Calls')\n",
        "data10=pd.read_excel('COVID_FINAL_DATA.xlsx',sheet_name='TimeSeries_Quarantine_Details')"
      ],
      "execution_count": 0,
      "outputs": []
    },
    {
      "cell_type": "code",
      "metadata": {
        "id": "53DpTGuY04F4",
        "colab_type": "code",
        "colab": {}
      },
      "source": [
        "data1=pd.read_excel('COVID_FINAL_DATA.xlsx',sheet_name='TimeSeries_KeyIndicators')\n",
        "data1.columns=data1.columns.str.strip().str.replace(' ','_')\n",
        "data1.drop(['un_named'],axis=1,inplace=True)\n",
        "data1=data1.dropna(how='all')\n",
        "data1.mean()\n",
        "data1=data1.fillna((data1.mean()))\n",
        "data1['Home_Quarantine']=data1['Home_Quarantine'].apply(np.int64)\n",
        "data1['Tests__performed_in_last_24_hours']= data1['Tests__performed_in_last_24_hours'].apply(np.int64)\n",
        "data1['Tests__performed_in_last_24_hours']=pd.to_numeric(data1['Tests__performed_in_last_24_hours'])\n",
        "data1['Date']=pd.to_datetime(data1['Date'])\n",
        "data1.columns=data1.columns.str.replace('__','_')\n",
        "data1['Region']=data1['Region'].str.strip()\n"
      ],
      "execution_count": 0,
      "outputs": []
    },
    {
      "cell_type": "code",
      "metadata": {
        "id": "TyZPUI52fniD",
        "colab_type": "code",
        "colab": {}
      },
      "source": [
        "data2=pd.read_excel('COVID_FINAL_DATA.xlsx',sheet_name='TimeSeries_KeyIndicators_Detail')\n",
        "data2.columns=data2.columns.str.strip().str.replace(' ','_')\n",
        "data2['Date']=pd.to_datetime(data2['Date'])\n",
        "data2.mean()\n",
        "data2=data2.fillna((data2.mean()))\n",
        "data2\n",
        "\n"
      ],
      "execution_count": 0,
      "outputs": []
    },
    {
      "cell_type": "code",
      "metadata": {
        "id": "mPBqGIAefnjM",
        "colab_type": "code",
        "colab": {}
      },
      "source": [
        "data3=pd.read_excel('COVID_FINAL_DATA.xlsx',sheet_name='TimeSeries_Action_Screen')\n",
        "data3.columns=data3.columns.str.strip().str.replace(' ','_')\n",
        "data3['Date']=pd.to_datetime(data3['Date'])\n",
        "data3.mean()\n",
        "data3=data3.fillna((data3.mean()))\n",
        "data3"
      ],
      "execution_count": 0,
      "outputs": []
    },
    {
      "cell_type": "code",
      "metadata": {
        "id": "gEGoMFa3mECg",
        "colab_type": "code",
        "colab": {}
      },
      "source": [
        "data4=pd.read_excel('COVID_FINAL_DATA.xlsx',sheet_name='TimeSeries_Action_Call')\n",
        "data4.columns=data4.columns.str.strip().str.replace(' ','_')\n",
        "data4.mean()\n",
        "data4=data4.fillna((data4.mean()))\n",
        "data4['Date']=pd.to_datetime(data4['Date'])\n",
        "data4.isnull().sum()\n",
        "data4"
      ],
      "execution_count": 0,
      "outputs": []
    },
    {
      "cell_type": "code",
      "metadata": {
        "id": "qKnULRs1Jjmq",
        "colab_type": "code",
        "colab": {}
      },
      "source": [
        "data5=pd.read_excel('COVID_FINAL_DATA.xlsx',sheet_name='TimeSeries_COVID_News')\n",
        "data5.columns=data5.columns.str.strip().str.replace(' ','_')\n",
        "data5.mean()\n",
        "data5['Date']=pd.to_datetime(data5['Date'])\n",
        "data5=data5.fillna((data5.mean()))\n",
        "data5.drop(['un_named'],axis=1,inplace=True)\n",
        "data5\n"
      ],
      "execution_count": 0,
      "outputs": []
    },
    {
      "cell_type": "code",
      "metadata": {
        "id": "Jom6yIoZfnjq",
        "colab_type": "code",
        "colab": {}
      },
      "source": [
        "data6=pd.read_excel('COVID_FINAL_DATA.xlsx',sheet_name='TimeSeries_NIH_Response')\n",
        "data6.columns=data6.columns.str.strip().str.replace(' ','_')\n",
        "data6=data6.drop(['un_named'],axis=1)\n",
        "data6['Date']=pd.to_datetime(data6['Date'])\n",
        "\n",
        "data6.dtypes"
      ],
      "execution_count": 0,
      "outputs": []
    },
    {
      "cell_type": "code",
      "metadata": {
        "id": "TcF-4eJefnj5",
        "colab_type": "code",
        "colab": {}
      },
      "source": [
        "data7=pd.read_excel('COVID_FINAL_DATA.xlsx',sheet_name='TimeSeries_NIH_Risk')\n",
        "data7.columns=data7.columns.str.strip().str.replace(' ','_')\n",
        "data7=data7.drop(['un_named'],axis=1)\n",
        "data7['Date']=pd.to_datetime(data7['Date'])\n",
        "#data7['date']=data7['date'].dt.strftime('%m/%d/%y')\n",
        "data7['Risk_Assessment_NIH']=data7['Risk_Assessment_NIH'].str.lower()\n",
        "data7['Risk_Assessment_NIH']=data7['Risk_Assessment_NIH'].str.replace('moderate.','moderate')\n",
        "data7"
      ],
      "execution_count": 0,
      "outputs": []
    },
    {
      "cell_type": "code",
      "metadata": {
        "id": "yigBKXCpfnkY",
        "colab_type": "code",
        "colab": {}
      },
      "source": [
        "data8=pd.read_excel('COVID_FINAL_DATA.xlsx',sheet_name='TimeSeries_Province_Response')\n",
        "data8.columns=data8.columns.str.strip().str.replace(' ','_')\n",
        "data8=data8.drop(['un_named'],axis=1)\n",
        "data8['Date']=pd.to_datetime(data8['Date'])\n",
        "data8.dtypes\n"
      ],
      "execution_count": 0,
      "outputs": []
    },
    {
      "cell_type": "code",
      "metadata": {
        "id": "99_M7s9elGah",
        "colab_type": "code",
        "colab": {}
      },
      "source": [
        "data9=pd.read_excel('COVID_FINAL_DATA.xlsx',sheet_name='TimeSeries_Helpline_Calls')\n",
        "data9.columns=data9.columns.str.strip().str.replace(' ','_')\n",
        "data9=data9.drop(['un_named'],axis=1)\n",
        "data9['Date']=pd.to_datetime(data9['Date'])\n",
        "data9.mean()\n",
        "data9=data9.fillna((data9.mean()))\n",
        "data9.dtypes\n"
      ],
      "execution_count": 0,
      "outputs": []
    },
    {
      "cell_type": "code",
      "metadata": {
        "id": "vonJBlPVOc75",
        "colab_type": "code",
        "colab": {}
      },
      "source": [
        "data10=pd.read_excel('COVID_FINAL_DATA.xlsx',sheet_name='TimeSeries_Quarantine_Details')\n",
        "data10.columns=data10.columns.str.strip().str.replace(' ','_')\n",
        "data10['Date']=pd.to_datetime(data10['Date'])\n",
        "data10.mean()\n",
        "data10=data9.fillna((data10.mean()))\n",
        "data10.dtypes"
      ],
      "execution_count": 0,
      "outputs": []
    },
    {
      "cell_type": "code",
      "metadata": {
        "id": "rLWd6Np1lyFe",
        "colab_type": "code",
        "colab": {}
      },
      "source": [
        "writer =pd.ExcelWriter('final.xlsx')\n",
        "data1.to_excel(writer,index=False,sheet_name='TimeSeries_KeyIndicators')\n",
        "data2.to_excel(writer,index=False,sheet_name='TimeSeries_KeyIndicators_Detail')\n",
        "data3.to_excel(writer,index=False,sheet_name='TimeSeries_Action_Screen')\n",
        "data4.to_excel(writer,index=False,sheet_name='TimeSeries_Action_Call')\n",
        "data5.to_excel(writer,index=False,sheet_name='TimeSeries_COVID_News')\n",
        "data6.to_excel(writer,index=False,sheet_name='TimeSeries_NIH_Response')\n",
        "data7.to_excel(writer,index=False,sheet_name='TimeSeries_NIH_Risk')\n",
        "data8.to_excel(writer,index=False,sheet_name='TimeSeries_Province_Response')\n",
        "data9.to_excel(writer,index=False,sheet_name='TimeSeries_Helpline_Calls')\n",
        "data10.to_excel(writer,index=False,sheet_name='TimeSeries_Quarantine_Details')\n",
        "writer.save()"
      ],
      "execution_count": 0,
      "outputs": []
    },
    {
      "cell_type": "markdown",
      "metadata": {
        "id": "HOV2I_WLprCS",
        "colab_type": "text"
      },
      "source": [
        ""
      ]
    },
    {
      "cell_type": "code",
      "metadata": {
        "id": "2WJ5oevFpshc",
        "colab_type": "code",
        "colab": {}
      },
      "source": [
        ""
      ],
      "execution_count": 0,
      "outputs": []
    }
  ]
}